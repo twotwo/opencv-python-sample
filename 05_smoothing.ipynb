{
 "cells": [
  {
   "cell_type": "markdown",
   "id": "f3d32af4",
   "metadata": {},
   "source": [
    "# 图像平滑处理\n",
    "\n",
    "[Smoothing Images](https://docs.opencv.org/4.7.0/dc/dd3/tutorial_gausian_median_blur_bilateral_filter.html)\n",
    "\n",
    "[Image Filtering](https://docs.opencv.org/4.7.0/d4/d86/group__imgproc__filter.html)\n",
    "\n",
    "在尽量保留图像原有信息的情况下，过滤掉图像内部的噪声，这一过程称为对图像的平滑处理，所得的图像称为平滑图像。"
   ]
  },
  {
   "cell_type": "code",
   "execution_count": 1,
   "id": "21c2fd32",
   "metadata": {},
   "outputs": [
    {
     "name": "stdout",
     "output_type": "stream",
     "text": [
      "load opencv lib used 0.22s\n",
      "locate starry_night.jpg: images/starry_night.jpg\n"
     ]
    }
   ],
   "source": [
    "import time\n",
    "t0 = time.time()\n",
    "\n",
    "# 初始化 opencv\n",
    "import cv2\n",
    "print(f\"load opencv lib used {(time.time() - t0):.2f}s\")\n",
    "\n",
    "# https://github.com/opencv/opencv/tree/4.x/samples/data\n",
    "# cv2.samples.addSamplesDataSearchPath(\"./images\")\n",
    "picture_file = cv2.samples.findFile(\"images/starry_night.jpg\")\n",
    "print(f\"locate starry_night.jpg: {picture_file}\")\n",
    "\n",
    "import numpy as np\n",
    "\n",
    "import matplotlib.pyplot as plt\n",
    "%matplotlib inline"
   ]
  }
 ],
 "metadata": {
  "kernelspec": {
   "display_name": "Python 3 (ipykernel)",
   "language": "python",
   "name": "python3"
  },
  "language_info": {
   "codemirror_mode": {
    "name": "ipython",
    "version": 3
   },
   "file_extension": ".py",
   "mimetype": "text/x-python",
   "name": "python",
   "nbconvert_exporter": "python",
   "pygments_lexer": "ipython3",
   "version": "3.7.11"
  }
 },
 "nbformat": 4,
 "nbformat_minor": 5
}
