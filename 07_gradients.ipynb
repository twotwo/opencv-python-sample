{
 "cells": [
  {
   "cell_type": "markdown",
   "id": "f3d32af4",
   "metadata": {},
   "source": [
    "# 图像梯度计算\n",
    "\n",
    "[Image Gradients](https://docs.opencv.org/4.7.0/d5/d0f/tutorial_py_gradients.html)\n",
    "\n",
    "图像梯度计算的是图像变化的速度。对于图像的边缘部分，其灰度值变化较大，梯度值也较大；相反，对于图像中比较平滑的部分，其灰度值变化较小，相应的梯度值也较小。一般情况下，图像梯度计算的是图像的边缘信息。"
   ]
  },
  {
   "cell_type": "code",
   "execution_count": 1,
   "id": "21c2fd32",
   "metadata": {},
   "outputs": [
    {
     "name": "stdout",
     "output_type": "stream",
     "text": [
      "load opencv lib used 0.18s\n",
      "locate starry_night.jpg: images/starry_night.jpg\n"
     ]
    }
   ],
   "source": [
    "import time\n",
    "t0 = time.time()\n",
    "\n",
    "# 初始化 opencv\n",
    "import cv2\n",
    "print(f\"load opencv lib used {(time.time() - t0):.2f}s\")\n",
    "\n",
    "# https://github.com/opencv/opencv/tree/4.x/samples/data\n",
    "# cv2.samples.addSamplesDataSearchPath(\"./images\")\n",
    "picture_file = cv2.samples.findFile(\"images/starry_night.jpg\")\n",
    "print(f\"locate starry_night.jpg: {picture_file}\")\n",
    "\n",
    "import numpy as np\n",
    "\n",
    "import matplotlib.pyplot as plt\n",
    "%matplotlib inline"
   ]
  }
 ],
 "metadata": {
  "kernelspec": {
   "display_name": "Python 3 (ipykernel)",
   "language": "python",
   "name": "python3"
  },
  "language_info": {
   "codemirror_mode": {
    "name": "ipython",
    "version": 3
   },
   "file_extension": ".py",
   "mimetype": "text/x-python",
   "name": "python",
   "nbconvert_exporter": "python",
   "pygments_lexer": "ipython3",
   "version": "3.7.11"
  }
 },
 "nbformat": 4,
 "nbformat_minor": 5
}
