{
 "cells": [
  {
   "cell_type": "markdown",
   "id": "f3d32af4",
   "metadata": {},
   "source": [
    "# 形态学操作\n",
    "\n",
    "[Eroding and Dilating](https://docs.opencv.org/4.7.0/db/df6/tutorial_erosion_dilatation.html)\n",
    "\n",
    "[More Morphology Transformations](https://docs.opencv.org/4.7.0/d3/dbe/tutorial_opening_closing_hats.html)\n",
    "\n",
    "形态学主要从图像内提取分量信息，该分量信息通常对于表达和描绘图像的形状具有重要意义，通常是图像理解时所使用的最本质的形状特征。\n",
    "\n",
    "形态学操作主要包含：腐蚀、膨胀、开运算、闭运算、形态学梯度（Morphological Gradient）运算、顶帽运算（礼帽运算）、黑帽运算等操作。腐蚀操作和膨胀操作是形态学运算的基础，将腐蚀和膨胀操作进行结合，就可以实现开运算、闭运算、形态学梯度运算、顶帽运算、黑帽运算、击中击不中等不同形式的运算。"
   ]
  },
  {
   "cell_type": "code",
   "execution_count": 1,
   "id": "21c2fd32",
   "metadata": {},
   "outputs": [
    {
     "name": "stdout",
     "output_type": "stream",
     "text": [
      "load opencv lib used 0.20s\n",
      "locate starry_night.jpg: images/starry_night.jpg\n"
     ]
    }
   ],
   "source": [
    "import time\n",
    "t0 = time.time()\n",
    "\n",
    "# 初始化 opencv\n",
    "import cv2\n",
    "print(f\"load opencv lib used {(time.time() - t0):.2f}s\")\n",
    "\n",
    "# https://github.com/opencv/opencv/tree/4.x/samples/data\n",
    "# cv2.samples.addSamplesDataSearchPath(\"./images\")\n",
    "picture_file = cv2.samples.findFile(\"images/starry_night.jpg\")\n",
    "print(f\"locate starry_night.jpg: {picture_file}\")\n",
    "\n",
    "import numpy as np\n",
    "\n",
    "import matplotlib.pyplot as plt\n",
    "%matplotlib inline"
   ]
  }
 ],
 "metadata": {
  "kernelspec": {
   "display_name": "Python 3 (ipykernel)",
   "language": "python",
   "name": "python3"
  },
  "language_info": {
   "codemirror_mode": {
    "name": "ipython",
    "version": 3
   },
   "file_extension": ".py",
   "mimetype": "text/x-python",
   "name": "python",
   "nbconvert_exporter": "python",
   "pygments_lexer": "ipython3",
   "version": "3.7.11"
  }
 },
 "nbformat": 4,
 "nbformat_minor": 5
}
