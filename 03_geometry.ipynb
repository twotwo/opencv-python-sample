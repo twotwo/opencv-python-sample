{
 "cells": [
  {
   "cell_type": "markdown",
   "id": "f3d32af4",
   "metadata": {},
   "source": [
    "# 几何变换\n",
    "\n",
    "[Geometric Image Transformations](https://docs.opencv.org/4.7.0/da/d54/group__imgproc__transform.html)\n",
    "\n",
    "几何变换是指将一幅图像映射到另外一幅图像内的操作。OpenCV提供了多个与映射有关的函数，这些函数使用起来方便灵活，能够高效地完成图像的映射。\n",
    "\n",
    "根据OpenCV函数的不同，可将映射关系划分为缩放、翻转、仿射变换、透视、重映射等。"
   ]
  },
  {
   "cell_type": "code",
   "execution_count": 1,
   "id": "21c2fd32",
   "metadata": {},
   "outputs": [
    {
     "name": "stdout",
     "output_type": "stream",
     "text": [
      "load opencv lib used 0.26s\n",
      "locate starry_night.jpg: images/starry_night.jpg\n"
     ]
    }
   ],
   "source": [
    "import time\n",
    "t0 = time.time()\n",
    "\n",
    "# 初始化 opencv\n",
    "import cv2\n",
    "print(f\"load opencv lib used {(time.time() - t0):.2f}s\")\n",
    "\n",
    "# https://github.com/opencv/opencv/tree/4.x/samples/data\n",
    "# cv2.samples.addSamplesDataSearchPath(\"./images\")\n",
    "picture_file = cv2.samples.findFile(\"images/starry_night.jpg\")\n",
    "print(f\"locate starry_night.jpg: {picture_file}\")\n",
    "\n",
    "import numpy as np\n",
    "\n",
    "import matplotlib.pyplot as plt\n",
    "%matplotlib inline"
   ]
  }
 ],
 "metadata": {
  "kernelspec": {
   "display_name": "Python 3 (ipykernel)",
   "language": "python",
   "name": "python3"
  },
  "language_info": {
   "codemirror_mode": {
    "name": "ipython",
    "version": 3
   },
   "file_extension": ".py",
   "mimetype": "text/x-python",
   "name": "python",
   "nbconvert_exporter": "python",
   "pygments_lexer": "ipython3",
   "version": "3.7.11"
  }
 },
 "nbformat": 4,
 "nbformat_minor": 5
}
