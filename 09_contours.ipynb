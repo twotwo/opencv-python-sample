{
 "cells": [
  {
   "cell_type": "markdown",
   "id": "f3d32af4",
   "metadata": {},
   "source": [
    "# 图像轮廓\n",
    "\n",
    "OpenCV-Python Tutorials\n",
    "* [Contours in OpenCV](https://docs.opencv.org/4.7.0/d3/d05/tutorial_py_table_of_contents_contours.html)\n",
    "\n",
    "OpenCV Tutorials / Image Processing (imgproc module)\n",
    "* [Finding contours in your image](https://docs.opencv.org/4.7.0/df/d0d/tutorial_find_contours.html)\n",
    "* [Convex Hull](https://docs.opencv.org/4.7.0/d7/d1d/tutorial_hull.html)\n",
    "* [Creating Bounding boxes and circles for contours](https://docs.opencv.org/4.7.0/da/d0c/tutorial_bounding_rects_circles.html)\n",
    "* [Creating Bounding rotated boxes and ellipses for contours](https://docs.opencv.org/4.7.0/de/d62/tutorial_bounding_rotated_ellipses.html)\n",
    "* [Image Moments](https://docs.opencv.org/4.7.0/d0/d49/tutorial_moments.html)\n",
    "* [Point Polygon Test](https://docs.opencv.org/4.7.0/dc/d48/tutorial_point_polygon_test.html)\n",
    "\n",
    "边缘检测虽然能够检测出边缘，但边缘是不连续的，检测到的边缘并不是一个整体。图像轮廓是指将边缘连接起来形成的一个整体，用于后续的计算。\n",
    "\n",
    "图像轮廓是图像中非常重要的一个特征信息，通过对图像轮廓的操作，我们能够获取目标图像的大小、位置、方向等信息。\n",
    "\n",
    "OpenCV提供了查找图像轮廓的函数cv2.findContours()，该函数能够查找图像内的轮廓信息，而函数cv2.drawContours()能够将轮廓绘制出来。"
   ]
  },
  {
   "cell_type": "code",
   "execution_count": 1,
   "id": "21c2fd32",
   "metadata": {},
   "outputs": [
    {
     "name": "stdout",
     "output_type": "stream",
     "text": [
      "load opencv lib used 0.23s\n",
      "locate starry_night.jpg: images/starry_night.jpg\n"
     ]
    }
   ],
   "source": [
    "import time\n",
    "t0 = time.time()\n",
    "\n",
    "# 初始化 opencv\n",
    "import cv2\n",
    "print(f\"load opencv lib used {(time.time() - t0):.2f}s\")\n",
    "\n",
    "# https://github.com/opencv/opencv/tree/4.x/samples/data\n",
    "# cv2.samples.addSamplesDataSearchPath(\"./images\")\n",
    "picture_file = cv2.samples.findFile(\"images/starry_night.jpg\")\n",
    "print(f\"locate starry_night.jpg: {picture_file}\")\n",
    "\n",
    "import numpy as np\n",
    "\n",
    "import matplotlib.pyplot as plt\n",
    "%matplotlib inline"
   ]
  }
 ],
 "metadata": {
  "kernelspec": {
   "display_name": "Python 3 (ipykernel)",
   "language": "python",
   "name": "python3"
  },
  "language_info": {
   "codemirror_mode": {
    "name": "ipython",
    "version": 3
   },
   "file_extension": ".py",
   "mimetype": "text/x-python",
   "name": "python",
   "nbconvert_exporter": "python",
   "pygments_lexer": "ipython3",
   "version": "3.7.11"
  }
 },
 "nbformat": 4,
 "nbformat_minor": 5
}
